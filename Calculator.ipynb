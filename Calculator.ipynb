{
 "cells": [
  {
   "cell_type": "markdown",
   "metadata": {},
   "source": [
    "print(\"select an operation to perform:\")\n",
    "print(\"1. ADD\")\n",
    "print(\"2. SUBTRACT\")\n",
    "print(\"3. MULTIPLY\")\n",
    "print(\"4. DIVIDE\")"
   ]
  },
  {
   "cell_type": "code",
   "execution_count": 16,
   "metadata": {},
   "outputs": [
    {
     "name": "stdout",
     "output_type": "stream",
     "text": [
      "Select an Operation to Perform: \n",
      "1. ADD\n",
      "2. SUBTRACT\n",
      "3. MULTIPLY\n",
      "4. DIVIDE\n",
      "Total 4\n"
     ]
    }
   ],
   "source": [
    "# Building a Simple Calculator in Python\n",
    "\n",
    "print(\"Select an Operation to Perform: \")\n",
    "\n",
    "print(\"1. ADD\")\n",
    "print(\"2. SUBTRACT\")\n",
    "print(\"3. MULTIPLY\")\n",
    "print(\"4. DIVIDE\")\n",
    "\n",
    "Operation = input(\"choose an operation to perform\")\n",
    "\n",
    "if Operation == \"1\":\n",
    "    num1= input(\"enter first number:\")\n",
    "    num2= input(\"enter second number:\")\n",
    "    \n",
    "\n",
    "    print(\"Total \"+ str(int(num1) + int(num2)))\n",
    "\n",
    "elif Operation == \"2\":\n",
    "    num1= input(\"enter first number:\")\n",
    "    num2= input(\"enter second number:\")\n",
    "\n",
    "    print(\"Total is \"+ str(int(num1) - int(num2)))\n",
    "\n",
    "elif Operation == \"3\":\n",
    "    num1= input(\"enter first number:\")\n",
    "    num2= input(\"enter second number:\")\n",
    "    print(\"Total is \"+ str(int(num1) * int(num2)))\n",
    "\n",
    "elif Operation == \"4\":\n",
    "    num1= input(\"enter first number:\")\n",
    "    num2= input(\"enter second number:\")\n",
    "    print(\"Total \"+ str(int(num1) / int(num2)))\n",
    "\n",
    "else:\n",
    "    print(\"invalid entry\")\n",
    "\n"
   ]
  }
 ],
 "metadata": {
  "interpreter": {
   "hash": "aee8b7b246df8f9039afb4144a1f6fd8d2ca17a180786b69acc140d282b71a49"
  },
  "kernelspec": {
   "display_name": "Python 3.10.0 64-bit",
   "name": "python3"
  },
  "language_info": {
   "codemirror_mode": {
    "name": "ipython",
    "version": 3
   },
   "file_extension": ".py",
   "mimetype": "text/x-python",
   "name": "python",
   "nbconvert_exporter": "python",
   "pygments_lexer": "ipython3",
   "version": "3.10.0"
  },
  "orig_nbformat": 4
 },
 "nbformat": 4,
 "nbformat_minor": 2
}
