{
 "cells": [
  {
   "cell_type": "code",
   "execution_count": 37,
   "metadata": {},
   "outputs": [],
   "source": [
    "name_1 = \"chiara\"\n",
    "weight_1 = 15\n",
    "height_1 = 15\n",
    "\n",
    "name_2 = \"brown\"\n",
    "weight_2 = 50\n",
    "height_2 = 12\n",
    "\n",
    "name_3 = \"nelly\"\n",
    "weight_3 = 35\n",
    "height_3 = 15\n"
   ]
  },
  {
   "cell_type": "code",
   "execution_count": 53,
   "metadata": {},
   "outputs": [],
   "source": [
    "def bmi_calculator (name, weight, height):\n",
    "    bmi = weight / (height ** 3)\n",
    "    print (\"bmi:\")\n",
    "    print (bmi)\n",
    "    if bmi < 10:\n",
    "        return name +  \"is not overweight\"\n",
    "\n",
    "    else: \n",
    "        bmi > 10\n",
    "        return name +   \"is overweight\"\n",
    "    "
   ]
  },
  {
   "cell_type": "code",
   "execution_count": 55,
   "metadata": {},
   "outputs": [
    {
     "name": "stdout",
     "output_type": "stream",
     "text": [
      "bmi:\n",
      "0.0044444444444444444\n",
      "bmi:\n",
      "0.014814814814814815\n",
      "bmi:\n",
      "0.01037037037037037\n"
     ]
    }
   ],
   "source": [
    "result1 = bmi_calculator(name_1, weight_1, height_1)\n",
    "result2 = bmi_calculator(name_2, weight_2, height_3)\n",
    "result3 = bmi_calculator(name_3, weight_3, height_3)"
   ]
  },
  {
   "cell_type": "code",
   "execution_count": 56,
   "metadata": {},
   "outputs": [
    {
     "name": "stdout",
     "output_type": "stream",
     "text": [
      "chiarais not overweight\n",
      "brownis not overweight\n",
      "nellyis not overweight\n"
     ]
    }
   ],
   "source": [
    "print (result1)\n",
    "print (result2)\n",
    "print (result3)\n"
   ]
  }
 ],
 "metadata": {
  "interpreter": {
   "hash": "aee8b7b246df8f9039afb4144a1f6fd8d2ca17a180786b69acc140d282b71a49"
  },
  "kernelspec": {
   "display_name": "Python 3.9.7 64-bit",
   "name": "python3"
  },
  "language_info": {
   "codemirror_mode": {
    "name": "ipython",
    "version": 3
   },
   "file_extension": ".py",
   "mimetype": "text/x-python",
   "name": "python",
   "nbconvert_exporter": "python",
   "pygments_lexer": "ipython3",
   "version": "3.9.7"
  },
  "orig_nbformat": 4
 },
 "nbformat": 4,
 "nbformat_minor": 2
}
