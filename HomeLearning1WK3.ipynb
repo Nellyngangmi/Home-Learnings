{
 "cells": [
  {
   "cell_type": "code",
   "execution_count": 1,
   "metadata": {},
   "outputs": [],
   "source": [
    "file =  open(\"Numbers_File.txt\", \"w\")\n",
    "file.write (\"3, 45, 83, 21.\")\n",
    "\n",
    "file. close()"
   ]
  },
  {
   "cell_type": "code",
   "execution_count": 6,
   "metadata": {},
   "outputs": [],
   "source": [
    "file = open(\"Numbers_File.text\", \"w\")\n",
    "file.write (\"3\")\n",
    "file.write (\"\\n\")\n",
    "file.write (\"45\")\n",
    "file.write (\"\\n\")\n",
    "file.write (\"83\")\n",
    "file.write (\"\\n\")\n",
    "file.write (\"21\")\n",
    "\n",
    "file.close()\n"
   ]
  }
 ],
 "metadata": {
  "interpreter": {
   "hash": "aee8b7b246df8f9039afb4144a1f6fd8d2ca17a180786b69acc140d282b71a49"
  },
  "kernelspec": {
   "display_name": "Python 3.10.0 64-bit",
   "name": "python3"
  },
  "language_info": {
   "codemirror_mode": {
    "name": "ipython",
    "version": 3
   },
   "file_extension": ".py",
   "mimetype": "text/x-python",
   "name": "python",
   "nbconvert_exporter": "python",
   "pygments_lexer": "ipython3",
   "version": "3.10.0"
  },
  "orig_nbformat": 4
 },
 "nbformat": 4,
 "nbformat_minor": 2
}
