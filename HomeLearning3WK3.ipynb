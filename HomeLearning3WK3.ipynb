{
 "cells": [
  {
   "cell_type": "code",
   "execution_count": 1,
   "metadata": {},
   "outputs": [],
   "source": [
    "import numpy as np"
   ]
  },
  {
   "cell_type": "code",
   "execution_count": 54,
   "metadata": {},
   "outputs": [
    {
     "data": {
      "text/plain": [
       "array([0, 1, 2, 3, 4, 5, 6, 7, 8, 9])"
      ]
     },
     "execution_count": 54,
     "metadata": {},
     "output_type": "execute_result"
    }
   ],
   "source": [
    "#creat a 1D array of numbeers from 0 to 9 \n",
    "import numpy as np\n",
    "array = np.array([0,1,2,3,4,5,6,7,8,9])\n",
    "array"
   ]
  },
  {
   "cell_type": "code",
   "execution_count": 41,
   "metadata": {},
   "outputs": [
    {
     "name": "stdout",
     "output_type": "stream",
     "text": [
      "multiply: [0]\n"
     ]
    },
    {
     "data": {
      "text/plain": [
       "True"
      ]
     },
     "execution_count": 41,
     "metadata": {},
     "output_type": "execute_result"
    }
   ],
   "source": [
    "#creat a 3x3 NumPy array of boolen vatues Trues \n",
    "import numpy as np\n",
    "array = np.arange(0,1,3)\n",
    "print (\"multiply:\",array * 3)\n",
    "\n",
    "def array(c,d,e):\n",
    "    return c * d == e\n",
    "\n",
    "    \n",
    "\n",
    "array(3,3,9)"
   ]
  },
  {
   "cell_type": "code",
   "execution_count": 8,
   "metadata": {},
   "outputs": [
    {
     "data": {
      "text/plain": [
       "array([1, 3, 5, 7, 9])"
      ]
     },
     "execution_count": 8,
     "metadata": {},
     "output_type": "execute_result"
    }
   ],
   "source": [
    "#Extract all odd numbeers from array of 1-10\n",
    "array = np.arange(1,10)\n",
    "array\n",
    "array[::2]\n",
    "\n",
    "\n"
   ]
  },
  {
   "cell_type": "code",
   "execution_count": 11,
   "metadata": {},
   "outputs": [
    {
     "data": {
      "text/plain": [
       "array([-1,  2, -1,  4, -1,  6, -1,  8, -1])"
      ]
     },
     "execution_count": 11,
     "metadata": {},
     "output_type": "execute_result"
    }
   ],
   "source": [
    "#replace all odd numbers in array of 1-10 with the value -1\n",
    "import numpy as np\n",
    "array = np.arange(1,10)\n",
    "array[::2] = -1\n",
    "array"
   ]
  },
  {
   "cell_type": "code",
   "execution_count": 12,
   "metadata": {},
   "outputs": [
    {
     "data": {
      "text/plain": [
       "array([[0, 1, 2, 3, 4],\n",
       "       [5, 6, 7, 8, 9]])"
      ]
     },
     "execution_count": 12,
     "metadata": {},
     "output_type": "execute_result"
    }
   ],
   "source": [
    "#Convert 1D array to a 2D array with 2 rows\n",
    "array = np.arange(0,10). reshape(2,5)\n",
    "array"
   ]
  },
  {
   "cell_type": "code",
   "execution_count": 119,
   "metadata": {},
   "outputs": [
    {
     "name": "stdout",
     "output_type": "stream",
     "text": [
      "[[2145 2238 2331]\n",
      " [2352 2454 2556]\n",
      " [2559 2670 2781]]\n"
     ]
    }
   ],
   "source": [
    "#Creat 2 arrays and stack the 2 arrays vertically. calculate using np.dot  \n",
    "A = np.arange (30,39). reshape (3,3)\n",
    "B = np.arange (20,29). reshape (3,3)\n",
    "C = np.dot (A,B)\n",
    "print (C)"
   ]
  },
  {
   "cell_type": "code",
   "execution_count": 120,
   "metadata": {},
   "outputs": [
    {
     "name": "stdout",
     "output_type": "stream",
     "text": [
      "22086\n"
     ]
    }
   ],
   "source": [
    "#sum\n",
    "Sum = np.sum(C)\n",
    "print (Sum)"
   ]
  },
  {
   "cell_type": "code",
   "execution_count": 148,
   "metadata": {},
   "outputs": [
    {
     "name": "stdout",
     "output_type": "stream",
     "text": [
      "[[1 1 1]\n",
      " [2 2 2]\n",
      " [3 3 3]\n",
      " [1 2 3]\n",
      " [1 2 3]]\n"
     ]
    }
   ],
   "source": [
    "#use numpy functions to write pattern without hardcoding \n",
    "import numpy as np\n",
    "\n",
    "array = np.array([1,1,1,2,2,2,3,3,3,1,2,3,1,2,3])\n",
    "newArray = array.reshape(5,3)\n",
    "\n",
    "print (newArray)"
   ]
  },
  {
   "cell_type": "code",
   "execution_count": 13,
   "metadata": {},
   "outputs": [
    {
     "name": "stdout",
     "output_type": "stream",
     "text": [
      "[1 2 3 4 5]\n",
      "[6 7 8]\n"
     ]
    }
   ],
   "source": [
    "#remove repeating items from array B\n",
    "\n",
    "A = np.array([1,2,3,4,5])\n",
    "B = np.array([4,5,6,7,8,9])\n",
    "print(A)\n",
    "print(B[2:5])\n"
   ]
  },
  {
   "cell_type": "code",
   "execution_count": 17,
   "metadata": {},
   "outputs": [
    {
     "data": {
      "text/plain": [
       "(array([4, 5]), array([7, 8, 9]))"
      ]
     },
     "execution_count": 17,
     "metadata": {},
     "output_type": "execute_result"
    }
   ],
   "source": [
    "#get items between 3 and 7 from a and b and sum together\n",
    "Item1 = (A[3:])\n",
    "Item2 = (B[3:7])\n",
    "Item1, Item2\n"
   ]
  },
  {
   "cell_type": "code",
   "execution_count": 164,
   "metadata": {},
   "outputs": [
    {
     "name": "stdout",
     "output_type": "stream",
     "text": [
      "98\n"
     ]
    }
   ],
   "source": [
    "Total = np.dot(Item1, Item2)\n",
    "print (Total)"
   ]
  },
  {
   "cell_type": "code",
   "execution_count": 165,
   "metadata": {},
   "outputs": [
    {
     "name": "stdout",
     "output_type": "stream",
     "text": [
      "98\n"
     ]
    }
   ],
   "source": [
    "Sum = np.sum(Total)\n",
    "print (Sum)"
   ]
  }
 ],
 "metadata": {
  "interpreter": {
   "hash": "aee8b7b246df8f9039afb4144a1f6fd8d2ca17a180786b69acc140d282b71a49"
  },
  "kernelspec": {
   "display_name": "Python 3.10.0 64-bit",
   "name": "python3"
  },
  "language_info": {
   "codemirror_mode": {
    "name": "ipython",
    "version": 3
   },
   "file_extension": ".py",
   "mimetype": "text/x-python",
   "name": "python",
   "nbconvert_exporter": "python",
   "pygments_lexer": "ipython3",
   "version": "3.10.0"
  },
  "orig_nbformat": 4
 },
 "nbformat": 4,
 "nbformat_minor": 2
}
